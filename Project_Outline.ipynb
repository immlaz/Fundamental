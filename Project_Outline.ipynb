import pandas as pd
from sklearn.metrics.pairwise import cosine_similarity

# Sample dataset
movies = pd.DataFrame({
    'movie_id': [1, 2, 3, 4, 5],
    'title': ['Movie A', 'Movie B', 'Movie C', 'Movie D', 'Movie E']
})

ratings = pd.DataFrame({
    'user_id': [1, 1, 2, 2, 3, 3, 4, 4, 5, 5],
    'movie_id': [1, 2, 2, 3, 3, 4, 4, 5, 1, 5],
    'rating': [5, 4, 5, 2, 4, 5, 2, 3, 5, 3]
})

# Pivot ratings table
movie_ratings = ratings.pivot_table(index='user_id', columns='movie_id', values='rating')

# Compute cosine similarity between movies
cosine_sim = cosine_similarity(movie_ratings.fillna(0))

# Convert into a DataFrame for better readability
cosine_sim_df = pd.DataFrame(cosine_sim, index=movies['title'], columns=movies['title'])

def recommend_movies(movie_title, cosine_sim_df=cosine_sim_df):
    similar_score = cosine_sim_df[movie_title]
    return similar_score.sort_values(ascending=False).head(10)

# Get top 10 recommendations for a specific movie
print(recommend_movies('Movie A'))
